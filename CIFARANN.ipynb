{
 "cells": [
  {
   "cell_type": "code",
   "execution_count": null,
   "metadata": {
    "collapsed": false
   },
   "outputs": [],
   "source": [
    "import numpy as np\n",
    "from data_utils import load_CIFAR, preproc, tuplize\n",
    "import Activations, Cost, Optimizers\n"
   ]
  },
  {
   "cell_type": "code",
   "execution_count": null,
   "metadata": {
    "collapsed": false
   },
   "outputs": [],
   "source": [
    "X_train, y_train, X_test, y_test = load_CIFAR()"
   ]
  },
  {
   "cell_type": "code",
   "execution_count": null,
   "metadata": {
    "collapsed": false
   },
   "outputs": [],
   "source": [
    "X_train, X_test = preproc(X_train, X_test, reduce=200)"
   ]
  },
  {
   "cell_type": "code",
   "execution_count": null,
   "metadata": {
    "collapsed": false
   },
   "outputs": [],
   "source": [
    "import ANN\n",
    "net = ANN.Network([200, 384 , 256, 128 ,10], \n",
    "                     cost=Cost.NLL, dropout = 0.4,\n",
    "                     act = Activations.elu,\n",
    "                     last_act = Activations.softmax)"
   ]
  },
  {
   "cell_type": "code",
   "execution_count": null,
   "metadata": {
    "collapsed": false
   },
   "outputs": [],
   "source": [
    "tr_d , training_data, validation_data,  test_data = tuplize(X_train, y_train, X_test ,y_test,\n",
    "                                                           validation_split = 0.1)"
   ]
  },
  {
   "cell_type": "code",
   "execution_count": null,
   "metadata": {
    "collapsed": false,
    "scrolled": true
   },
   "outputs": [],
   "source": [
    "op = Optimizers.adam(lr = 0.001, lmbda = 4e-7, decay_rate = 0.0)\n",
    "net.fit(training_data, 500, 128,\n",
    "        optimizer = op,\n",
    "        evaluation_data=validation_data,\n",
    "        verbose = 2)"
   ]
  },
  {
   "cell_type": "code",
   "execution_count": null,
   "metadata": {
    "collapsed": false
   },
   "outputs": [],
   "source": [
    "net.accuracy(test_data, isTrain = False, final = True)"
   ]
  },
  {
   "cell_type": "code",
   "execution_count": null,
   "metadata": {
    "collapsed": false
   },
   "outputs": [],
   "source": [
    "\n",
    "x_epoch = np.arange(1,len(net.evaluation_cost)+1)\n",
    "import matplotlib.pyplot as plt\n",
    "\n",
    "plt.plot(x_epoch,net.evaluation_cost, label = 'Validation Cost')\n",
    "plt.plot(x_epoch,net.training_cost, label = 'Training_Cost')\n",
    "\n",
    "\n",
    "# Now add the legend with some customizations.\n",
    "legend = plt.legend(loc='upper right', shadow=True)\n",
    "frame = legend.get_frame()\n",
    "frame.set_facecolor('0.90')\n",
    "\n",
    "for label in legend.get_texts():\n",
    "    label.set_fontsize('small')\n",
    "\n",
    "for label in legend.get_lines():\n",
    "    label.set_linewidth(1.5)  # the legend line width\n",
    "     \n",
    "plt.xlabel('epoch')\n",
    "plt.ylabel('cost')\n",
    "plt.grid(True)\n",
    "#plt.savefig(\"test.png\")\n",
    "plt.show()"
   ]
  },
  {
   "cell_type": "code",
   "execution_count": null,
   "metadata": {
    "collapsed": true
   },
   "outputs": [],
   "source": []
  }
 ],
 "metadata": {
  "anaconda-cloud": {},
  "kernelspec": {
   "display_name": "Python [conda root]",
   "language": "python",
   "name": "conda-root-py"
  },
  "language_info": {
   "codemirror_mode": {
    "name": "ipython",
    "version": 3
   },
   "file_extension": ".py",
   "mimetype": "text/x-python",
   "name": "python",
   "nbconvert_exporter": "python",
   "pygments_lexer": "ipython3",
   "version": "3.5.2"
  }
 },
 "nbformat": 4,
 "nbformat_minor": 2
}
